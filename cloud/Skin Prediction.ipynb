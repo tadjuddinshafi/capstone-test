{
 "cells": [
  {
   "cell_type": "code",
   "execution_count": 11,
   "id": "a44b828f",
   "metadata": {},
   "outputs": [],
   "source": [
    "import tensorflow as tf\n",
    "import numpy as np\n",
    "from tensorflow.keras.preprocessing import image\n",
    "from tensorflow.keras.models import load_model\n"
   ]
  },
  {
   "cell_type": "code",
   "execution_count": 12,
   "id": "2846a7a7",
   "metadata": {},
   "outputs": [
    {
     "name": "stdout",
     "output_type": "stream",
     "text": [
      "Model: \"sequential\"\n",
      "_________________________________________________________________\n",
      "Layer (type)                 Output Shape              Param #   \n",
      "=================================================================\n",
      "conv2d (Conv2D)              (None, 148, 148, 64)      1792      \n",
      "_________________________________________________________________\n",
      "max_pooling2d (MaxPooling2D) (None, 74, 74, 64)        0         \n",
      "_________________________________________________________________\n",
      "conv2d_1 (Conv2D)            (None, 72, 72, 64)        36928     \n",
      "_________________________________________________________________\n",
      "max_pooling2d_1 (MaxPooling2 (None, 36, 36, 64)        0         \n",
      "_________________________________________________________________\n",
      "conv2d_2 (Conv2D)            (None, 34, 34, 128)       73856     \n",
      "_________________________________________________________________\n",
      "max_pooling2d_2 (MaxPooling2 (None, 17, 17, 128)       0         \n",
      "_________________________________________________________________\n",
      "conv2d_3 (Conv2D)            (None, 15, 15, 128)       147584    \n",
      "_________________________________________________________________\n",
      "max_pooling2d_3 (MaxPooling2 (None, 7, 7, 128)         0         \n",
      "_________________________________________________________________\n",
      "flatten (Flatten)            (None, 6272)              0         \n",
      "_________________________________________________________________\n",
      "dense (Dense)                (None, 48)                301104    \n",
      "_________________________________________________________________\n",
      "dense_1 (Dense)              (None, 5)                 245       \n",
      "=================================================================\n",
      "Total params: 561,509\n",
      "Trainable params: 561,509\n",
      "Non-trainable params: 0\n",
      "_________________________________________________________________\n"
     ]
    }
   ],
   "source": [
    "model = load_model('skincare.h5')\n",
    "model.summary()"
   ]
  },
  {
   "cell_type": "code",
   "execution_count": 14,
   "id": "c8e9f3d6",
   "metadata": {},
   "outputs": [
    {
     "name": "stdout",
     "output_type": "stream",
     "text": [
      "1\n",
      "comb.1.jpg\n",
      "[[0.000000e+00 1.000000e+00 0.000000e+00 0.000000e+00 6.049435e-30]]\n"
     ]
    }
   ],
   "source": [
    "path = \"comb.1.jpg\"\n",
    "img = image.load_img(path, target_size=(150, 150))\n",
    "x = image.img_to_array(img)\n",
    "x = np.expand_dims(x, axis=0)\n",
    "images = np.vstack([x])\n",
    "classes = model.predict(images, batch_size=10)\n",
    "print(classes.argmax())\n",
    "print(path)\n",
    "print(classes)"
   ]
  },
  {
   "cell_type": "code",
   "execution_count": 20,
   "id": "5c64d660",
   "metadata": {},
   "outputs": [],
   "source": [
    "# def pred_skin_(img_):\n",
    "#     img = image.load_img(img_, target_size=(150, 150))\n",
    "#     x = image.img_to_array(img)\n",
    "#     x = np.expand_dims(x, axis=0)\n",
    "#     images = np.vstack([x])\n",
    "#     classes = model.predict(images, batch_size=10)\n",
    "#     return classes.argmax()"
   ]
  },
  {
   "cell_type": "code",
   "execution_count": 29,
   "id": "6671cdf1",
   "metadata": {},
   "outputs": [
    {
     "data": {
      "text/plain": [
       "4"
      ]
     },
     "execution_count": 29,
     "metadata": {},
     "output_type": "execute_result"
    }
   ],
   "source": [
    "# # test\n",
    "# pred_skin_('sens.jpeg')"
   ]
  },
  {
   "cell_type": "markdown",
   "id": "6f0afcee",
   "metadata": {},
   "source": [
    "# Model Transfer Learning"
   ]
  },
  {
   "cell_type": "code",
   "execution_count": 16,
   "id": "31f3dfb8",
   "metadata": {},
   "outputs": [],
   "source": [
    "model_tl = load_model('skin_model_5.h5')\n",
    "# model_tl.summary()"
   ]
  },
  {
   "cell_type": "code",
   "execution_count": 25,
   "id": "14e78c19",
   "metadata": {},
   "outputs": [],
   "source": [
    "def pred_skin(img_):\n",
    "    '''\n",
    "    Fungsi untuk prediksinya\n",
    "    \n",
    "    Parameter:\n",
    "        img_: gambarnya\n",
    "        \n",
    "    Output:\n",
    "        0: dry\n",
    "        1: komb\n",
    "        2: normal\n",
    "        3: oily\n",
    "        4: sens\n",
    "    '''\n",
    "    img = image.load_img(img_, target_size=(150, 150))\n",
    "    x = image.img_to_array(img)\n",
    "    x/=255.\n",
    "    x = np.expand_dims(x, axis=0)\n",
    "    images = np.vstack([x])\n",
    "    classes = model_tl.predict(images, batch_size=10)\n",
    "    return classes.argmax()"
   ]
  },
  {
   "cell_type": "code",
   "execution_count": 28,
   "id": "7fb8a790",
   "metadata": {},
   "outputs": [
    {
     "data": {
      "text/plain": [
       "4"
      ]
     },
     "execution_count": 28,
     "metadata": {},
     "output_type": "execute_result"
    }
   ],
   "source": [
    "# test\n",
    "pred_skin('sens.jpeg')"
   ]
  }
 ],
 "metadata": {
  "environment": {
   "name": "tf2-gpu.2-5.m70",
   "type": "gcloud",
   "uri": "gcr.io/deeplearning-platform-release/tf2-gpu.2-5:m70"
  },
  "kernelspec": {
   "display_name": "Python 3",
   "language": "python",
   "name": "python3"
  },
  "language_info": {
   "codemirror_mode": {
    "name": "ipython",
    "version": 3
   },
   "file_extension": ".py",
   "mimetype": "text/x-python",
   "name": "python",
   "nbconvert_exporter": "python",
   "pygments_lexer": "ipython3",
   "version": "3.7.10"
  }
 },
 "nbformat": 4,
 "nbformat_minor": 5
}
