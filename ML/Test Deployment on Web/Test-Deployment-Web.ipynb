{
  "nbformat": 4,
  "nbformat_minor": 0,
  "metadata": {
    "colab": {
      "name": "Test-Deployment-Web.ipynb",
      "provenance": [],
      "collapsed_sections": []
    },
    "kernelspec": {
      "name": "python3",
      "display_name": "Python 3"
    },
    "language_info": {
      "name": "python"
    }
  },
  "cells": [
    {
      "cell_type": "code",
      "metadata": {
        "colab": {
          "base_uri": "https://localhost:8080/"
        },
        "id": "axN5EE0nmmDC",
        "outputId": "3294e499-e92c-4e94-b2a8-903842e44590"
      },
      "source": [
        "from google.colab import drive\n",
        "drive.mount('drive/')"
      ],
      "execution_count": 1,
      "outputs": [
        {
          "output_type": "stream",
          "text": [
            "Mounted at drive/\n"
          ],
          "name": "stdout"
        }
      ]
    },
    {
      "cell_type": "code",
      "metadata": {
        "colab": {
          "base_uri": "https://localhost:8080/"
        },
        "id": "DsWm7QoQ4d6F",
        "outputId": "c3290164-875f-46a9-bc0f-9f3aa4bb2302"
      },
      "source": [
        "!pip install flask-ngrok"
      ],
      "execution_count": 2,
      "outputs": [
        {
          "output_type": "stream",
          "text": [
            "Collecting flask-ngrok\n",
            "  Downloading https://files.pythonhosted.org/packages/af/6c/f54cb686ad1129e27d125d182f90f52b32f284e6c8df58c1bae54fa1adbc/flask_ngrok-0.0.25-py3-none-any.whl\n",
            "Requirement already satisfied: requests in /usr/local/lib/python3.7/dist-packages (from flask-ngrok) (2.23.0)\n",
            "Requirement already satisfied: Flask>=0.8 in /usr/local/lib/python3.7/dist-packages (from flask-ngrok) (1.1.4)\n",
            "Requirement already satisfied: chardet<4,>=3.0.2 in /usr/local/lib/python3.7/dist-packages (from requests->flask-ngrok) (3.0.4)\n",
            "Requirement already satisfied: urllib3!=1.25.0,!=1.25.1,<1.26,>=1.21.1 in /usr/local/lib/python3.7/dist-packages (from requests->flask-ngrok) (1.24.3)\n",
            "Requirement already satisfied: idna<3,>=2.5 in /usr/local/lib/python3.7/dist-packages (from requests->flask-ngrok) (2.10)\n",
            "Requirement already satisfied: certifi>=2017.4.17 in /usr/local/lib/python3.7/dist-packages (from requests->flask-ngrok) (2020.12.5)\n",
            "Requirement already satisfied: Werkzeug<2.0,>=0.15 in /usr/local/lib/python3.7/dist-packages (from Flask>=0.8->flask-ngrok) (1.0.1)\n",
            "Requirement already satisfied: click<8.0,>=5.1 in /usr/local/lib/python3.7/dist-packages (from Flask>=0.8->flask-ngrok) (7.1.2)\n",
            "Requirement already satisfied: Jinja2<3.0,>=2.10.1 in /usr/local/lib/python3.7/dist-packages (from Flask>=0.8->flask-ngrok) (2.11.3)\n",
            "Requirement already satisfied: itsdangerous<2.0,>=0.24 in /usr/local/lib/python3.7/dist-packages (from Flask>=0.8->flask-ngrok) (1.1.0)\n",
            "Requirement already satisfied: MarkupSafe>=0.23 in /usr/local/lib/python3.7/dist-packages (from Jinja2<3.0,>=2.10.1->Flask>=0.8->flask-ngrok) (2.0.1)\n",
            "Installing collected packages: flask-ngrok\n",
            "Successfully installed flask-ngrok-0.0.25\n"
          ],
          "name": "stdout"
        }
      ]
    },
    {
      "cell_type": "markdown",
      "metadata": {
        "id": "CNB8Yde1Xe6H"
      },
      "source": [
        "# Make HTML File"
      ]
    },
    {
      "cell_type": "code",
      "metadata": {
        "id": "WrFThzNGOrRR"
      },
      "source": [
        "index = '''\n",
        "<!doctype html>\n",
        "<title>Skin Predicition</title>\n",
        "<h2>Select a image file to upload and predict ...</h2>\n",
        "\n",
        "<form method=\"post\" action=\"/\" enctype=\"multipart/form-data\">\n",
        "    <dl>\n",
        "      <p>\n",
        "        <input type=\"file\" name=\"file\" autocomplete=\"off\" required onchange=\"loadFile(event)\">\n",
        "      </p>\n",
        "    </dl>\n",
        "    \n",
        "    <p>\n",
        "      <img id=\"output\"/>\n",
        "    </p>\n",
        "    \n",
        "    <p>  \n",
        "      <input type=\"submit\" value=\"Predict\">\n",
        "    </p>\n",
        "    \n",
        "  </form>     \n",
        "\n",
        "<p>\n",
        "\t{% with messages = get_flashed_messages() %}\n",
        "\t  {% if messages %}        \n",
        "        This skin probably {{ messages[0] }}%\n",
        "        {{ messages[1] }} type.\n",
        "        <br>\n",
        "\t  {% endif %}    \n",
        "\t{% endwith %}\n",
        "</p>\n",
        "\n",
        "<script>\n",
        "  var loadFile = function(event) {\n",
        "    var output = document.getElementById('output');\n",
        "    output.src = URL.createObjectURL(event.target.files[0]);\n",
        "    output.onload = function() {\n",
        "      URL.revokeObjectURL(output.src) // free memory\n",
        "    }\n",
        "  };\n",
        "</script>\n",
        "'''\n",
        "file = open(\"/content/drive/MyDrive/Colabs/Bangkit/tes/templates/index.html\",\"w\")\n",
        "file.write(index)\n",
        "file.close()"
      ],
      "execution_count": 4,
      "outputs": []
    },
    {
      "cell_type": "markdown",
      "metadata": {
        "id": "APXOUeXY7yBP"
      },
      "source": [
        "# Deployment with Flask & ngrok"
      ]
    },
    {
      "cell_type": "code",
      "metadata": {
        "colab": {
          "base_uri": "https://localhost:8080/"
        },
        "id": "dxXSnehu7xBb",
        "outputId": "4f54b7cc-3e42-4830-8d3b-fdfcb67f21e1"
      },
      "source": [
        "import tensorflow as tf\n",
        "import numpy as np\n",
        "from tensorflow.keras.preprocessing import image\n",
        "from tensorflow.keras.models import load_model\n",
        "from flask import Flask, render_template, request, redirect, flash, url_for\n",
        "import urllib.request\n",
        "from werkzeug.utils import secure_filename\n",
        "import os\n",
        "from flask_ngrok import run_with_ngrok\n",
        "\n",
        "\n",
        "names = [\"Dry\", \"Combination\", \"Normal\", \"Oily\", \"Sensitive\"]\n",
        "\n",
        "\n",
        "def pred_skin(filename):    \n",
        "    model = load_model('/content/drive/MyDrive/Colabs/Bangkit/tes/skincaremobilenet.h5')        \n",
        "    img = image.load_img('/tmp/'+filename, target_size=(150, 150))\n",
        "    x = image.img_to_array(img)\n",
        "    x = np.expand_dims(x, axis=0)\n",
        "    images = np.vstack([x])\n",
        "    classes = model.predict(images, batch_size=10)\n",
        "    label = classes.argmax()\n",
        "    labelName = names[label]\n",
        "    print(classes.shape)\n",
        "    print('This skin probably {:.2f}% {} type'.format(classes[0][label]*100, labelName))     \n",
        "    return round(classes[0][label]*100,2), labelName\n",
        "\n",
        "\n",
        "UPLOAD_FOLDER = '/tmp'\n",
        "app = Flask(__name__,template_folder='/content/drive/MyDrive/Colabs/Bangkit/tes/templates')\n",
        "run_with_ngrok(app)\n",
        "app.secret_key = \"secret key\"\n",
        "app.config['UPLOAD_FOLDER'] = UPLOAD_FOLDER\n",
        "\n",
        "\n",
        "@app.route('/')\n",
        "def index():\n",
        "    return render_template('index.html')\n",
        "\n",
        "\n",
        "@app.route('/', methods=['POST'])\n",
        "def submit_file():\n",
        "    if request.method == 'POST':\n",
        "        if 'file' not in request.files:\n",
        "            flash('No file part')\n",
        "            return redirect(request.url)\n",
        "        file = request.files['file']\n",
        "        if file.filename == '':\n",
        "            flash('No file selected for uploading')\n",
        "            return redirect(request.url)\n",
        "        if file:\n",
        "            filename = secure_filename(file.filename)\n",
        "            file.save(os.path.join(app.config['UPLOAD_FOLDER'],filename))            \n",
        "            acc, label, = pred_skin(filename)            \n",
        "            flash(acc)\n",
        "            flash(label)                        \n",
        "            return redirect('/')\n",
        "\n",
        "\n",
        "if __name__ == \"__main__\":\n",
        "    app.run()"
      ],
      "execution_count": 5,
      "outputs": [
        {
          "output_type": "stream",
          "text": [
            " * Serving Flask app \"__main__\" (lazy loading)\n",
            " * Environment: production\n",
            "\u001b[31m   WARNING: This is a development server. Do not use it in a production deployment.\u001b[0m\n",
            "\u001b[2m   Use a production WSGI server instead.\u001b[0m\n",
            " * Debug mode: off\n"
          ],
          "name": "stdout"
        },
        {
          "output_type": "stream",
          "text": [
            " * Running on http://127.0.0.1:5000/ (Press CTRL+C to quit)\n"
          ],
          "name": "stderr"
        },
        {
          "output_type": "stream",
          "text": [
            " * Running on http://d0dc6b242294.ngrok.io\n",
            " * Traffic stats available on http://127.0.0.1:4040\n"
          ],
          "name": "stdout"
        },
        {
          "output_type": "stream",
          "text": [
            "127.0.0.1 - - [06/Jun/2021 09:39:20] \"\u001b[37mGET / HTTP/1.1\u001b[0m\" 200 -\n",
            "127.0.0.1 - - [06/Jun/2021 09:39:21] \"\u001b[37mGET / HTTP/1.1\u001b[0m\" 200 -\n",
            "127.0.0.1 - - [06/Jun/2021 09:39:22] \"\u001b[33mGET /favicon.ico HTTP/1.1\u001b[0m\" 404 -\n",
            "127.0.0.1 - - [06/Jun/2021 09:40:13] \"\u001b[32mPOST / HTTP/1.1\u001b[0m\" 302 -\n"
          ],
          "name": "stderr"
        },
        {
          "output_type": "stream",
          "text": [
            "(1, 5)\n",
            "This skin probably 96.35% Sensitive type\n"
          ],
          "name": "stdout"
        },
        {
          "output_type": "stream",
          "text": [
            "127.0.0.1 - - [06/Jun/2021 09:40:13] \"\u001b[37mGET / HTTP/1.1\u001b[0m\" 200 -\n"
          ],
          "name": "stderr"
        }
      ]
    }
  ]
}