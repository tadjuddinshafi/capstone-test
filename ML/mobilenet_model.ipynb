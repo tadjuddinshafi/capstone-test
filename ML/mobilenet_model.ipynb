{
  "nbformat": 4,
  "nbformat_minor": 0,
  "metadata": {
    "colab": {
      "name": "Untitled0.ipynb",
      "provenance": []
    },
    "kernelspec": {
      "name": "python3",
      "display_name": "Python 3"
    },
    "language_info": {
      "name": "python"
    }
  },
  "cells": [
    {
      "cell_type": "code",
      "metadata": {
        "id": "IizgwSUjAcbi"
      },
      "source": [
        "import os\n",
        "import zipfile\n",
        " \n",
        "local_zip = '/content/dataset.zip'\n",
        "zip_ref = zipfile.ZipFile(local_zip, 'r')\n",
        "zip_ref.extractall('/content/')\n",
        "zip_ref.close()"
      ],
      "execution_count": null,
      "outputs": []
    },
    {
      "cell_type": "code",
      "metadata": {
        "id": "LXnYgNSiPOV6"
      },
      "source": [
        "try:\n",
        "    %tensorflow_version 2.x\n",
        "except:\n",
        "    pass"
      ],
      "execution_count": null,
      "outputs": []
    },
    {
      "cell_type": "code",
      "metadata": {
        "colab": {
          "base_uri": "https://localhost:8080/"
        },
        "id": "ow0ZeHefPT4c",
        "outputId": "b5dfc495-0531-4dc9-cd51-1bce25c0efc2"
      },
      "source": [
        "import numpy as np\n",
        "import matplotlib.pylab as plt\n",
        "from tensorflow import keras\n",
        "import tensorflow as tf\n",
        "import tensorflow_hub as hub\n",
        "import tensorflow_datasets as tfds\n",
        "tfds.disable_progress_bar()\n",
        "\n",
        "from tqdm import tqdm\n",
        "\n",
        "print(\"\\u2022 Using TensorFlow Version:\", tf.__version__)\n",
        "print(\"\\u2022 Using TensorFlow Hub Version: \", hub.__version__)\n",
        "print('\\u2022 GPU Device Found.' if tf.test.is_gpu_available() else '\\u2022 GPU Device Not Found. Running on CPU')"
      ],
      "execution_count": null,
      "outputs": [
        {
          "output_type": "stream",
          "text": [
            "• Using TensorFlow Version: 2.5.0\n",
            "• Using TensorFlow Hub Version:  0.12.0\n",
            "WARNING:tensorflow:From <ipython-input-3-1fa8326486da>:13: is_gpu_available (from tensorflow.python.framework.test_util) is deprecated and will be removed in a future version.\n",
            "Instructions for updating:\n",
            "Use `tf.config.list_physical_devices('GPU')` instead.\n",
            "• GPU Device Not Found. Running on CPU\n"
          ],
          "name": "stdout"
        }
      ]
    },
    {
      "cell_type": "code",
      "metadata": {
        "id": "gwkahb3UrHny"
      },
      "source": [
        ""
      ],
      "execution_count": null,
      "outputs": []
    },
    {
      "cell_type": "code",
      "metadata": {
        "colab": {
          "base_uri": "https://localhost:8080/"
        },
        "id": "NAqnEUAmCHuL",
        "outputId": "3df2a391-1b57-4312-d1e6-375dbe7158f7"
      },
      "source": [
        "dry_dir = os.path.join('/content/trainskin/dry')\n",
        "normal_dir = os.path.join('/content/trainskin/normal')\n",
        "oily_dir = os.path.join('/content/trainskin/oily')\n",
        "sensitif_dir = os.path.join('/content/trainskin/sensitif')\n",
        "kombinasi_dir = os.path.join('/content/trainskin/kombinasi')\n",
        "\n",
        "\n",
        "print('total training dry images:', len(os.listdir(dry_dir)))\n",
        "print('total training normal images:', len(os.listdir(normal_dir)))\n",
        "print('total training oily images:', len(os.listdir(oily_dir)))\n",
        "print('total training sensitif images:', len(os.listdir(sensitif_dir)))\n",
        "print('total training kombinasi images:', len(os.listdir(kombinasi_dir)))\n",
        "\n",
        "dry_files = os.listdir(dry_dir)\n",
        "print(dry_files)\n",
        "\n",
        "normal_files = os.listdir(normal_dir)\n",
        "print(normal_files)\n",
        "\n",
        "oily_files = os.listdir(oily_dir)\n",
        "print(oily_files)\n",
        "\n",
        "sensitif_files = os.listdir(sensitif_dir)\n",
        "print(sensitif_files)\n",
        "\n",
        "kombinasi_files = os.listdir(kombinasi_dir)\n",
        "print(kombinasi_files)"
      ],
      "execution_count": null,
      "outputs": [
        {
          "output_type": "stream",
          "text": [
            "total training dry images: 15\n",
            "total training normal images: 15\n",
            "total training oily images: 15\n",
            "total training sensitif images: 15\n",
            "total training kombinasi images: 15\n",
            "['dry.11.PNG', 'dry.2.PNG', 'dry.1.PNG', 'dry.14.PNG', 'dry.6.PNG', 'dry.13.PNG', 'dry.5.PNG', 'dry.3.PNG', 'dry.15.PNG', 'dry.8.PNG', 'dry.9.PNG', 'dry.10.PNG', 'dry.7.PNG', 'dry.12.PNG', 'dry.4.PNG']\n",
            "['normal.9.PNG', 'normal.4.PNG', 'normal.5.PNG', 'normal.3.PNG', 'normal.13.PNG', 'normal.15.PNG', 'normal.2.PNG', 'normal.11.PNG', 'normal.6.PNG', 'normal.8.PNG', 'normal.1.PNG', 'normal.7.PNG', 'normal.10.PNG', 'normal.12.PNG', 'normal.14.PNG']\n",
            "['oily.6.PNG', 'oily.7.PNG', 'oily.5.PNG', 'oily.4.PNG', 'oily.8.PNG', 'oily.10.PNG', 'oily.13.PNG', 'oily.15.PNG', 'oily.1.PNG', 'oily.3.PNG', 'oily.12.PNG', 'oily.14.PNG', 'oily.2.PNG', 'oily.11.PNG', 'oily.9.PNG']\n",
            "['sensitif.16.PNG', 'sensitif.6.PNG', 'sensitif.7.PNG', 'sensitif.18.PNG', 'sensitif.5.PNG', 'sensitif.14.PNG', 'sensitif.9.PNG', 'sensitif.8.PNG', 'sensitif.10.PNG', 'sensitif.20.PNG', 'sensitif.15.PNG', 'sensitif.11.PNG', 'sensitif.19.PNG', 'sensitif.1.jpeg', 'sensitif.13.PNG']\n",
            "['comb.10.jpg', 'comb.12.jpg', 'comb.5.jpg', 'comb.11.jpg', 'comb.4.jpg', 'comb.3.jpg', 'comb.7.jpg', 'comb.8.jpg', 'comb.9.jpg', 'comb.2.jpg', 'comb.6.jpg', 'comb.13.jpg', 'comb.15.jpg', 'comb.1.jpg', 'comb.14.jpg']\n"
          ],
          "name": "stdout"
        }
      ]
    },
    {
      "cell_type": "code",
      "metadata": {
        "colab": {
          "base_uri": "https://localhost:8080/"
        },
        "id": "1xgpwmK1PkdD",
        "outputId": "b26f1703-1fd0-49ae-e239-0ebef5409e10"
      },
      "source": [
        "import tensorflow as tf\n",
        "import keras_preprocessing\n",
        "from keras_preprocessing import image\n",
        "from keras_preprocessing.image import ImageDataGenerator\n",
        "\n",
        "class myCallback(tf.keras.callbacks.Callback):\n",
        "  def on_epoch_end(self, epoch, logs={}):\n",
        "    if(logs.get('accuracy')>0.8) and (logs.get('val_accuracy')>=0.8):\n",
        "      print(\"\\nReached 80% accuracy so cancelling training!\")\n",
        "      self.model.stop_training = True\n",
        "\n",
        "callbacks = myCallback()\n",
        "TRAINING_DIR = \"/content/trainskin/\"\n",
        "training_datagen = ImageDataGenerator(\n",
        "      rescale = 1./255,\n",
        "\t    rotation_range=40,\n",
        "      width_shift_range=0.2,\n",
        "      height_shift_range=0.2,\n",
        "      shear_range=0.2,\n",
        "      zoom_range=0.2,\n",
        "      horizontal_flip=True,\n",
        "      fill_mode='nearest')\n",
        "\n",
        "VALIDATION_DIR = \"/content/testskin/\"\n",
        "validation_datagen = ImageDataGenerator(rescale = 1./255)\n",
        "\n",
        "train_generator = training_datagen.flow_from_directory(\n",
        "\tTRAINING_DIR,\n",
        "\ttarget_size=(150,150),\n",
        "\tclass_mode='categorical',\n",
        "  batch_size=5\n",
        ")\n",
        "\n",
        "validation_generator = validation_datagen.flow_from_directory(\n",
        "\tVALIDATION_DIR,\n",
        "\ttarget_size=(150,150),\n",
        "\tclass_mode='categorical',\n",
        "  batch_size=5\n",
        ")"
      ],
      "execution_count": null,
      "outputs": [
        {
          "output_type": "stream",
          "text": [
            "Found 75 images belonging to 5 classes.\n",
            "Found 25 images belonging to 5 classes.\n"
          ],
          "name": "stdout"
        }
      ]
    },
    {
      "cell_type": "code",
      "metadata": {
        "colab": {
          "base_uri": "https://localhost:8080/"
        },
        "id": "wJ67Y_y2UQWK",
        "outputId": "1cb47f32-5a1c-49ca-f77a-23becc17d970"
      },
      "source": [
        "image_size = 150\n",
        "IMG_SHAPE = (image_size, image_size, 3)\n",
        "base_model = tf.keras.applications.MobileNetV2(input_shape=IMG_SHAPE,include_top=False,weights='imagenet')"
      ],
      "execution_count": null,
      "outputs": [
        {
          "output_type": "stream",
          "text": [
            "WARNING:tensorflow:`input_shape` is undefined or non-square, or `rows` is not in [96, 128, 160, 192, 224]. Weights for input shape (224, 224) will be loaded as the default.\n",
            "Downloading data from https://storage.googleapis.com/tensorflow/keras-applications/mobilenet_v2/mobilenet_v2_weights_tf_dim_ordering_tf_kernels_1.0_224_no_top.h5\n",
            "9412608/9406464 [==============================] - 0s 0us/step\n"
          ],
          "name": "stdout"
        }
      ]
    },
    {
      "cell_type": "code",
      "metadata": {
        "id": "lkLdC4_FUpmX"
      },
      "source": [
        "base_model.trainable = False"
      ],
      "execution_count": null,
      "outputs": []
    },
    {
      "cell_type": "code",
      "metadata": {
        "colab": {
          "base_uri": "https://localhost:8080/"
        },
        "id": "Y2LItbBtU_MI",
        "outputId": "bb0b434e-739c-4d8e-c11f-be32c30e5434"
      },
      "source": [
        "model = tf.keras.Sequential([\n",
        "                          base_model,\n",
        "                          keras.layers.GlobalAveragePooling2D(),\n",
        "                          keras.layers.Dense(5, activation='softmax')])\n",
        "model.summary()"
      ],
      "execution_count": null,
      "outputs": [
        {
          "output_type": "stream",
          "text": [
            "Model: \"sequential\"\n",
            "_________________________________________________________________\n",
            "Layer (type)                 Output Shape              Param #   \n",
            "=================================================================\n",
            "mobilenetv2_1.00_224 (Functi (None, 5, 5, 1280)        2257984   \n",
            "_________________________________________________________________\n",
            "global_average_pooling2d (Gl (None, 1280)              0         \n",
            "_________________________________________________________________\n",
            "dense (Dense)                (None, 5)                 6405      \n",
            "=================================================================\n",
            "Total params: 2,264,389\n",
            "Trainable params: 6,405\n",
            "Non-trainable params: 2,257,984\n",
            "_________________________________________________________________\n"
          ],
          "name": "stdout"
        }
      ]
    },
    {
      "cell_type": "code",
      "metadata": {
        "colab": {
          "base_uri": "https://localhost:8080/"
        },
        "id": "0ymoyF8bVjvo",
        "outputId": "75560b59-3485-436f-94fa-8f97502bbb5d"
      },
      "source": [
        "model.compile(optimizer=tf.keras.optimizers.RMSprop(lr=0.0001),\n",
        "              loss='categorical_crossentropy',\n",
        "              metrics=['accuracy'])"
      ],
      "execution_count": null,
      "outputs": [
        {
          "output_type": "stream",
          "text": [
            "/usr/local/lib/python3.7/dist-packages/tensorflow/python/keras/optimizer_v2/optimizer_v2.py:375: UserWarning: The `lr` argument is deprecated, use `learning_rate` instead.\n",
            "  \"The `lr` argument is deprecated, use `learning_rate` instead.\")\n"
          ],
          "name": "stderr"
        }
      ]
    },
    {
      "cell_type": "code",
      "metadata": {
        "id": "YRWVOWO3qjYO"
      },
      "source": [
        "model.compile(optimizer='adam',loss='sparse_categorical_crossentropy',metrics=['accuracy'])"
      ],
      "execution_count": null,
      "outputs": []
    },
    {
      "cell_type": "code",
      "metadata": {
        "colab": {
          "base_uri": "https://localhost:8080/"
        },
        "id": "yAspRo63Vpoq",
        "outputId": "09af1d8d-2760-4d29-826a-b8c20ffb5d00"
      },
      "source": [
        "history = model.fit(train_generator, epochs=300, validation_data = validation_generator, verbose = 2, validation_steps=2,callbacks=[callbacks])"
      ],
      "execution_count": null,
      "outputs": [
        {
          "output_type": "stream",
          "text": [
            "Epoch 1/300\n",
            "15/15 - 5s - loss: 0.1041 - accuracy: 0.9867 - val_loss: 1.2834 - val_accuracy: 0.5000\n",
            "Epoch 2/300\n",
            "15/15 - 2s - loss: 0.1199 - accuracy: 0.9733 - val_loss: 1.8793 - val_accuracy: 0.3000\n",
            "Epoch 3/300\n",
            "15/15 - 2s - loss: 0.2453 - accuracy: 0.9333 - val_loss: 2.1657 - val_accuracy: 0.4000\n",
            "Epoch 4/300\n",
            "15/15 - 2s - loss: 0.1731 - accuracy: 0.9200 - val_loss: 2.1630 - val_accuracy: 0.6000\n",
            "Epoch 5/300\n",
            "15/15 - 2s - loss: 0.1387 - accuracy: 0.9600 - val_loss: 1.8854 - val_accuracy: 0.5000\n",
            "Epoch 6/300\n",
            "15/15 - 2s - loss: 0.1679 - accuracy: 0.9733 - val_loss: 2.2658 - val_accuracy: 0.4000\n",
            "Epoch 7/300\n",
            "15/15 - 2s - loss: 0.1712 - accuracy: 0.9333 - val_loss: 1.5096 - val_accuracy: 0.7000\n",
            "Epoch 8/300\n",
            "15/15 - 2s - loss: 0.2009 - accuracy: 0.9200 - val_loss: 3.3160 - val_accuracy: 0.2000\n",
            "Epoch 9/300\n",
            "15/15 - 2s - loss: 0.1387 - accuracy: 0.9733 - val_loss: 2.2699 - val_accuracy: 0.3000\n",
            "Epoch 10/300\n",
            "15/15 - 2s - loss: 0.2929 - accuracy: 0.8933 - val_loss: 1.9106 - val_accuracy: 0.4000\n",
            "Epoch 11/300\n",
            "15/15 - 2s - loss: 0.2938 - accuracy: 0.9067 - val_loss: 2.6120 - val_accuracy: 0.1000\n",
            "Epoch 12/300\n",
            "15/15 - 2s - loss: 0.2565 - accuracy: 0.9067 - val_loss: 2.7729 - val_accuracy: 0.3000\n",
            "Epoch 13/300\n",
            "15/15 - 2s - loss: 0.1590 - accuracy: 0.9467 - val_loss: 2.4929 - val_accuracy: 0.3000\n",
            "Epoch 14/300\n",
            "15/15 - 2s - loss: 0.1464 - accuracy: 0.9867 - val_loss: 2.1135 - val_accuracy: 0.5000\n",
            "Epoch 15/300\n",
            "15/15 - 2s - loss: 0.2405 - accuracy: 0.9200 - val_loss: 2.0879 - val_accuracy: 0.2000\n",
            "Epoch 16/300\n",
            "15/15 - 2s - loss: 0.1160 - accuracy: 0.9867 - val_loss: 1.6755 - val_accuracy: 0.4000\n",
            "Epoch 17/300\n",
            "15/15 - 2s - loss: 0.1162 - accuracy: 0.9733 - val_loss: 1.8892 - val_accuracy: 0.4000\n",
            "Epoch 18/300\n",
            "15/15 - 2s - loss: 0.1752 - accuracy: 0.9467 - val_loss: 2.2020 - val_accuracy: 0.5000\n",
            "Epoch 19/300\n",
            "15/15 - 2s - loss: 0.1704 - accuracy: 0.9733 - val_loss: 1.7984 - val_accuracy: 0.4000\n",
            "Epoch 20/300\n",
            "15/15 - 2s - loss: 0.1868 - accuracy: 0.9067 - val_loss: 2.0346 - val_accuracy: 0.3000\n",
            "Epoch 21/300\n",
            "15/15 - 2s - loss: 0.2482 - accuracy: 0.9067 - val_loss: 1.8356 - val_accuracy: 0.4000\n",
            "Epoch 22/300\n",
            "15/15 - 2s - loss: 0.2081 - accuracy: 0.9200 - val_loss: 2.1116 - val_accuracy: 0.5000\n",
            "Epoch 23/300\n",
            "15/15 - 2s - loss: 0.1186 - accuracy: 0.9733 - val_loss: 2.5813 - val_accuracy: 0.2000\n",
            "Epoch 24/300\n",
            "15/15 - 2s - loss: 0.1873 - accuracy: 0.9467 - val_loss: 1.3389 - val_accuracy: 0.5000\n",
            "Epoch 25/300\n",
            "15/15 - 2s - loss: 0.1016 - accuracy: 0.9867 - val_loss: 1.6457 - val_accuracy: 0.5000\n",
            "Epoch 26/300\n",
            "15/15 - 2s - loss: 0.1837 - accuracy: 0.9467 - val_loss: 1.8629 - val_accuracy: 0.3000\n",
            "Epoch 27/300\n",
            "15/15 - 2s - loss: 0.2212 - accuracy: 0.9200 - val_loss: 2.8938 - val_accuracy: 0.4000\n",
            "Epoch 28/300\n",
            "15/15 - 2s - loss: 0.1712 - accuracy: 0.9733 - val_loss: 2.5780 - val_accuracy: 0.2000\n",
            "Epoch 29/300\n",
            "15/15 - 2s - loss: 0.1523 - accuracy: 0.9467 - val_loss: 2.4410 - val_accuracy: 0.3000\n",
            "Epoch 30/300\n",
            "15/15 - 2s - loss: 0.1537 - accuracy: 0.9733 - val_loss: 2.0003 - val_accuracy: 0.2000\n",
            "Epoch 31/300\n",
            "15/15 - 2s - loss: 0.1776 - accuracy: 0.9733 - val_loss: 2.5537 - val_accuracy: 0.3000\n",
            "Epoch 32/300\n",
            "15/15 - 2s - loss: 0.2030 - accuracy: 0.9333 - val_loss: 1.3976 - val_accuracy: 0.5000\n",
            "Epoch 33/300\n",
            "15/15 - 2s - loss: 0.1624 - accuracy: 0.9733 - val_loss: 2.4151 - val_accuracy: 0.3000\n",
            "Epoch 34/300\n",
            "15/15 - 2s - loss: 0.1375 - accuracy: 0.9600 - val_loss: 1.6085 - val_accuracy: 0.4000\n",
            "Epoch 35/300\n",
            "15/15 - 2s - loss: 0.1535 - accuracy: 0.9467 - val_loss: 1.1982 - val_accuracy: 0.5000\n",
            "Epoch 36/300\n",
            "15/15 - 2s - loss: 0.2755 - accuracy: 0.9067 - val_loss: 1.4993 - val_accuracy: 0.4000\n",
            "Epoch 37/300\n",
            "15/15 - 2s - loss: 0.1237 - accuracy: 0.9867 - val_loss: 2.4653 - val_accuracy: 0.3000\n",
            "Epoch 38/300\n",
            "15/15 - 2s - loss: 0.1657 - accuracy: 0.9333 - val_loss: 2.9956 - val_accuracy: 0.3000\n",
            "Epoch 39/300\n",
            "15/15 - 2s - loss: 0.2228 - accuracy: 0.9200 - val_loss: 2.0936 - val_accuracy: 0.4000\n",
            "Epoch 40/300\n",
            "15/15 - 2s - loss: 0.1085 - accuracy: 0.9867 - val_loss: 2.9438 - val_accuracy: 0.3000\n",
            "Epoch 41/300\n",
            "15/15 - 2s - loss: 0.2067 - accuracy: 0.9333 - val_loss: 2.7030 - val_accuracy: 0.2000\n",
            "Epoch 42/300\n",
            "15/15 - 2s - loss: 0.1594 - accuracy: 0.9867 - val_loss: 2.5954 - val_accuracy: 0.2000\n",
            "Epoch 43/300\n",
            "15/15 - 2s - loss: 0.2035 - accuracy: 0.9200 - val_loss: 2.1606 - val_accuracy: 0.2000\n",
            "Epoch 44/300\n",
            "15/15 - 2s - loss: 0.1846 - accuracy: 0.9467 - val_loss: 3.1544 - val_accuracy: 0.2000\n",
            "Epoch 45/300\n",
            "15/15 - 2s - loss: 0.1874 - accuracy: 0.9467 - val_loss: 2.3212 - val_accuracy: 0.2000\n",
            "Epoch 46/300\n",
            "15/15 - 2s - loss: 0.2412 - accuracy: 0.9067 - val_loss: 3.6183 - val_accuracy: 0.2000\n",
            "Epoch 47/300\n",
            "15/15 - 2s - loss: 0.1871 - accuracy: 0.9600 - val_loss: 2.2733 - val_accuracy: 0.3000\n",
            "Epoch 48/300\n",
            "15/15 - 2s - loss: 0.1678 - accuracy: 0.9600 - val_loss: 2.6238 - val_accuracy: 0.3000\n",
            "Epoch 49/300\n",
            "15/15 - 2s - loss: 0.1707 - accuracy: 0.9333 - val_loss: 1.4402 - val_accuracy: 0.4000\n",
            "Epoch 50/300\n",
            "15/15 - 2s - loss: 0.2534 - accuracy: 0.8933 - val_loss: 1.7039 - val_accuracy: 0.5000\n",
            "Epoch 51/300\n",
            "15/15 - 2s - loss: 0.1011 - accuracy: 1.0000 - val_loss: 2.0304 - val_accuracy: 0.4000\n",
            "Epoch 52/300\n",
            "15/15 - 2s - loss: 0.1923 - accuracy: 0.9333 - val_loss: 1.8201 - val_accuracy: 0.3000\n",
            "Epoch 53/300\n",
            "15/15 - 2s - loss: 0.1800 - accuracy: 0.9467 - val_loss: 2.4098 - val_accuracy: 0.4000\n",
            "Epoch 54/300\n",
            "15/15 - 2s - loss: 0.2074 - accuracy: 0.9200 - val_loss: 2.2699 - val_accuracy: 0.3000\n",
            "Epoch 55/300\n",
            "15/15 - 2s - loss: 0.0766 - accuracy: 1.0000 - val_loss: 2.7428 - val_accuracy: 0.3000\n",
            "Epoch 56/300\n",
            "15/15 - 2s - loss: 0.1532 - accuracy: 0.9467 - val_loss: 2.2381 - val_accuracy: 0.4000\n",
            "Epoch 57/300\n",
            "15/15 - 2s - loss: 0.1319 - accuracy: 0.9867 - val_loss: 2.1214 - val_accuracy: 0.3000\n",
            "Epoch 58/300\n",
            "15/15 - 2s - loss: 0.1970 - accuracy: 0.9333 - val_loss: 2.0674 - val_accuracy: 0.3000\n",
            "Epoch 59/300\n",
            "15/15 - 2s - loss: 0.2101 - accuracy: 0.9333 - val_loss: 1.2715 - val_accuracy: 0.5000\n",
            "Epoch 60/300\n",
            "15/15 - 2s - loss: 0.2122 - accuracy: 0.9067 - val_loss: 2.3444 - val_accuracy: 0.3000\n",
            "Epoch 61/300\n",
            "15/15 - 2s - loss: 0.1434 - accuracy: 0.9600 - val_loss: 1.2557 - val_accuracy: 0.6000\n",
            "Epoch 62/300\n",
            "15/15 - 2s - loss: 0.2057 - accuracy: 0.9200 - val_loss: 2.0908 - val_accuracy: 0.5000\n",
            "Epoch 63/300\n",
            "15/15 - 2s - loss: 0.1484 - accuracy: 0.9333 - val_loss: 2.7511 - val_accuracy: 0.2000\n",
            "Epoch 64/300\n",
            "15/15 - 2s - loss: 0.2207 - accuracy: 0.8933 - val_loss: 2.6699 - val_accuracy: 0.2000\n",
            "Epoch 65/300\n",
            "15/15 - 2s - loss: 0.2312 - accuracy: 0.9200 - val_loss: 1.6845 - val_accuracy: 0.4000\n",
            "Epoch 66/300\n",
            "15/15 - 2s - loss: 0.1376 - accuracy: 0.9733 - val_loss: 2.5437 - val_accuracy: 0.2000\n",
            "Epoch 67/300\n",
            "15/15 - 2s - loss: 0.1290 - accuracy: 0.9867 - val_loss: 2.3465 - val_accuracy: 0.3000\n",
            "Epoch 68/300\n",
            "15/15 - 2s - loss: 0.2200 - accuracy: 0.9200 - val_loss: 2.1272 - val_accuracy: 0.3000\n",
            "Epoch 69/300\n",
            "15/15 - 2s - loss: 0.2048 - accuracy: 0.9200 - val_loss: 2.4440 - val_accuracy: 0.4000\n",
            "Epoch 70/300\n",
            "15/15 - 2s - loss: 0.1845 - accuracy: 0.9467 - val_loss: 1.2928 - val_accuracy: 0.5000\n",
            "Epoch 71/300\n",
            "15/15 - 2s - loss: 0.1471 - accuracy: 0.9467 - val_loss: 0.9128 - val_accuracy: 0.6000\n",
            "Epoch 72/300\n",
            "15/15 - 2s - loss: 0.1196 - accuracy: 0.9867 - val_loss: 2.2015 - val_accuracy: 0.3000\n",
            "Epoch 73/300\n",
            "15/15 - 2s - loss: 0.1862 - accuracy: 0.9600 - val_loss: 2.7077 - val_accuracy: 0.4000\n",
            "Epoch 74/300\n",
            "15/15 - 2s - loss: 0.1692 - accuracy: 0.9333 - val_loss: 2.6022 - val_accuracy: 0.3000\n",
            "Epoch 75/300\n",
            "15/15 - 2s - loss: 0.2353 - accuracy: 0.8933 - val_loss: 1.9238 - val_accuracy: 0.5000\n",
            "Epoch 76/300\n",
            "15/15 - 2s - loss: 0.2459 - accuracy: 0.9067 - val_loss: 2.1703 - val_accuracy: 0.3000\n",
            "Epoch 77/300\n",
            "15/15 - 2s - loss: 0.1671 - accuracy: 0.9467 - val_loss: 1.7230 - val_accuracy: 0.3000\n",
            "Epoch 78/300\n",
            "15/15 - 2s - loss: 0.1541 - accuracy: 0.9733 - val_loss: 1.8378 - val_accuracy: 0.4000\n",
            "Epoch 79/300\n",
            "15/15 - 2s - loss: 0.1729 - accuracy: 0.9467 - val_loss: 1.8077 - val_accuracy: 0.4000\n",
            "Epoch 80/300\n",
            "15/15 - 2s - loss: 0.1165 - accuracy: 0.9733 - val_loss: 1.8750 - val_accuracy: 0.3000\n",
            "Epoch 81/300\n",
            "15/15 - 2s - loss: 0.1898 - accuracy: 0.9333 - val_loss: 2.6055 - val_accuracy: 0.2000\n",
            "Epoch 82/300\n",
            "15/15 - 2s - loss: 0.2039 - accuracy: 0.9467 - val_loss: 2.6793 - val_accuracy: 0.3000\n",
            "Epoch 83/300\n",
            "15/15 - 2s - loss: 0.1561 - accuracy: 0.9467 - val_loss: 2.5910 - val_accuracy: 0.3000\n",
            "Epoch 84/300\n",
            "15/15 - 2s - loss: 0.1427 - accuracy: 0.9867 - val_loss: 2.6649 - val_accuracy: 0.3000\n",
            "Epoch 85/300\n",
            "15/15 - 2s - loss: 0.1365 - accuracy: 0.9733 - val_loss: 2.2484 - val_accuracy: 0.4000\n",
            "Epoch 86/300\n",
            "15/15 - 2s - loss: 0.1313 - accuracy: 0.9867 - val_loss: 2.3199 - val_accuracy: 0.4000\n",
            "Epoch 87/300\n",
            "15/15 - 2s - loss: 0.1371 - accuracy: 0.9867 - val_loss: 2.2514 - val_accuracy: 0.4000\n",
            "Epoch 88/300\n",
            "15/15 - 2s - loss: 0.1200 - accuracy: 0.9867 - val_loss: 1.9582 - val_accuracy: 0.3000\n",
            "Epoch 89/300\n",
            "15/15 - 2s - loss: 0.1775 - accuracy: 0.9467 - val_loss: 2.7589 - val_accuracy: 0.2000\n",
            "Epoch 90/300\n",
            "15/15 - 2s - loss: 0.1605 - accuracy: 0.9733 - val_loss: 3.3165 - val_accuracy: 0.1000\n",
            "Epoch 91/300\n",
            "15/15 - 2s - loss: 0.1954 - accuracy: 0.9333 - val_loss: 2.2363 - val_accuracy: 0.5000\n",
            "Epoch 92/300\n",
            "15/15 - 2s - loss: 0.1815 - accuracy: 0.9467 - val_loss: 1.9293 - val_accuracy: 0.4000\n",
            "Epoch 93/300\n",
            "15/15 - 2s - loss: 0.2862 - accuracy: 0.8800 - val_loss: 1.8620 - val_accuracy: 0.4000\n",
            "Epoch 94/300\n",
            "15/15 - 2s - loss: 0.1629 - accuracy: 0.9467 - val_loss: 2.4105 - val_accuracy: 0.2000\n",
            "Epoch 95/300\n",
            "15/15 - 2s - loss: 0.2044 - accuracy: 0.9467 - val_loss: 1.5880 - val_accuracy: 0.4000\n",
            "Epoch 96/300\n",
            "15/15 - 2s - loss: 0.0826 - accuracy: 0.9867 - val_loss: 1.8409 - val_accuracy: 0.5000\n",
            "Epoch 97/300\n",
            "15/15 - 2s - loss: 0.1735 - accuracy: 0.9333 - val_loss: 1.8388 - val_accuracy: 0.4000\n",
            "Epoch 98/300\n",
            "15/15 - 2s - loss: 0.1257 - accuracy: 0.9733 - val_loss: 1.7205 - val_accuracy: 0.5000\n",
            "Epoch 99/300\n",
            "15/15 - 2s - loss: 0.1189 - accuracy: 0.9867 - val_loss: 1.5228 - val_accuracy: 0.6000\n",
            "Epoch 100/300\n",
            "15/15 - 2s - loss: 0.2052 - accuracy: 0.9200 - val_loss: 3.2226 - val_accuracy: 0.2000\n",
            "Epoch 101/300\n",
            "15/15 - 2s - loss: 0.1729 - accuracy: 0.9600 - val_loss: 1.5284 - val_accuracy: 0.4000\n",
            "Epoch 102/300\n",
            "15/15 - 2s - loss: 0.1227 - accuracy: 1.0000 - val_loss: 1.7225 - val_accuracy: 0.5000\n",
            "Epoch 103/300\n",
            "15/15 - 2s - loss: 0.1379 - accuracy: 0.9600 - val_loss: 2.5069 - val_accuracy: 0.2000\n",
            "Epoch 104/300\n",
            "15/15 - 2s - loss: 0.1085 - accuracy: 0.9600 - val_loss: 1.7621 - val_accuracy: 0.4000\n",
            "Epoch 105/300\n",
            "15/15 - 2s - loss: 0.2060 - accuracy: 0.9067 - val_loss: 2.1598 - val_accuracy: 0.4000\n",
            "Epoch 106/300\n",
            "15/15 - 2s - loss: 0.2264 - accuracy: 0.9067 - val_loss: 3.3353 - val_accuracy: 0.3000\n",
            "Epoch 107/300\n",
            "15/15 - 2s - loss: 0.1983 - accuracy: 0.9200 - val_loss: 2.4044 - val_accuracy: 0.4000\n",
            "Epoch 108/300\n",
            "15/15 - 2s - loss: 0.2105 - accuracy: 0.9467 - val_loss: 2.0105 - val_accuracy: 0.4000\n",
            "Epoch 109/300\n",
            "15/15 - 2s - loss: 0.1626 - accuracy: 0.9467 - val_loss: 1.9883 - val_accuracy: 0.4000\n",
            "Epoch 110/300\n",
            "15/15 - 2s - loss: 0.2011 - accuracy: 0.9467 - val_loss: 2.5871 - val_accuracy: 0.2000\n",
            "Epoch 111/300\n",
            "15/15 - 2s - loss: 0.1711 - accuracy: 0.9600 - val_loss: 1.4591 - val_accuracy: 0.5000\n",
            "Epoch 112/300\n",
            "15/15 - 2s - loss: 0.1158 - accuracy: 0.9600 - val_loss: 2.5079 - val_accuracy: 0.2000\n",
            "Epoch 113/300\n",
            "15/15 - 2s - loss: 0.1241 - accuracy: 0.9867 - val_loss: 2.3406 - val_accuracy: 0.3000\n",
            "Epoch 114/300\n",
            "15/15 - 2s - loss: 0.1385 - accuracy: 0.9467 - val_loss: 1.8012 - val_accuracy: 0.5000\n",
            "Epoch 115/300\n",
            "15/15 - 2s - loss: 0.0880 - accuracy: 0.9867 - val_loss: 2.5192 - val_accuracy: 0.4000\n",
            "Epoch 116/300\n",
            "15/15 - 2s - loss: 0.1306 - accuracy: 0.9867 - val_loss: 0.8956 - val_accuracy: 0.6000\n",
            "Epoch 117/300\n",
            "15/15 - 2s - loss: 0.1521 - accuracy: 0.9600 - val_loss: 2.0593 - val_accuracy: 0.4000\n",
            "Epoch 118/300\n",
            "15/15 - 2s - loss: 0.1470 - accuracy: 0.9733 - val_loss: 1.9170 - val_accuracy: 0.5000\n",
            "Epoch 119/300\n",
            "15/15 - 2s - loss: 0.1078 - accuracy: 0.9600 - val_loss: 2.1518 - val_accuracy: 0.3000\n",
            "Epoch 120/300\n",
            "15/15 - 2s - loss: 0.3105 - accuracy: 0.8800 - val_loss: 2.3128 - val_accuracy: 0.2000\n",
            "Epoch 121/300\n",
            "15/15 - 2s - loss: 0.2068 - accuracy: 0.9200 - val_loss: 3.2891 - val_accuracy: 0.2000\n",
            "Epoch 122/300\n",
            "15/15 - 2s - loss: 0.0891 - accuracy: 0.9733 - val_loss: 2.2996 - val_accuracy: 0.3000\n",
            "Epoch 123/300\n",
            "15/15 - 2s - loss: 0.1393 - accuracy: 0.9733 - val_loss: 1.9145 - val_accuracy: 0.4000\n",
            "Epoch 124/300\n",
            "15/15 - 2s - loss: 0.2095 - accuracy: 0.9467 - val_loss: 1.8690 - val_accuracy: 0.3000\n",
            "Epoch 125/300\n",
            "15/15 - 2s - loss: 0.1447 - accuracy: 0.9467 - val_loss: 1.6849 - val_accuracy: 0.4000\n",
            "Epoch 126/300\n",
            "15/15 - 2s - loss: 0.1960 - accuracy: 0.9200 - val_loss: 1.7122 - val_accuracy: 0.4000\n",
            "Epoch 127/300\n",
            "15/15 - 2s - loss: 0.1428 - accuracy: 0.9600 - val_loss: 1.9417 - val_accuracy: 0.4000\n",
            "Epoch 128/300\n",
            "15/15 - 2s - loss: 0.2335 - accuracy: 0.9067 - val_loss: 2.4791 - val_accuracy: 0.2000\n",
            "Epoch 129/300\n",
            "15/15 - 2s - loss: 0.1958 - accuracy: 0.9467 - val_loss: 2.1381 - val_accuracy: 0.5000\n",
            "Epoch 130/300\n",
            "15/15 - 2s - loss: 0.1334 - accuracy: 0.9733 - val_loss: 2.6529 - val_accuracy: 0.4000\n",
            "Epoch 131/300\n",
            "15/15 - 2s - loss: 0.2228 - accuracy: 0.9200 - val_loss: 1.2375 - val_accuracy: 0.4000\n",
            "Epoch 132/300\n",
            "15/15 - 2s - loss: 0.2054 - accuracy: 0.9200 - val_loss: 2.3090 - val_accuracy: 0.4000\n",
            "Epoch 133/300\n",
            "15/15 - 2s - loss: 0.1087 - accuracy: 1.0000 - val_loss: 2.4070 - val_accuracy: 0.3000\n",
            "Epoch 134/300\n",
            "15/15 - 2s - loss: 0.1295 - accuracy: 1.0000 - val_loss: 2.9818 - val_accuracy: 0.2000\n",
            "Epoch 135/300\n",
            "15/15 - 2s - loss: 0.1354 - accuracy: 0.9733 - val_loss: 2.4514 - val_accuracy: 0.4000\n",
            "Epoch 136/300\n",
            "15/15 - 2s - loss: 0.1598 - accuracy: 0.9467 - val_loss: 2.3570 - val_accuracy: 0.4000\n",
            "Epoch 137/300\n",
            "15/15 - 2s - loss: 0.1541 - accuracy: 0.9200 - val_loss: 2.0302 - val_accuracy: 0.3000\n",
            "Epoch 138/300\n",
            "15/15 - 2s - loss: 0.2475 - accuracy: 0.9067 - val_loss: 2.2335 - val_accuracy: 0.4000\n",
            "Epoch 139/300\n",
            "15/15 - 2s - loss: 0.1421 - accuracy: 0.9467 - val_loss: 1.7939 - val_accuracy: 0.5000\n",
            "Epoch 140/300\n",
            "15/15 - 2s - loss: 0.1678 - accuracy: 0.9200 - val_loss: 3.1749 - val_accuracy: 0.2000\n",
            "Epoch 141/300\n",
            "15/15 - 2s - loss: 0.2009 - accuracy: 0.9333 - val_loss: 2.5068 - val_accuracy: 0.4000\n",
            "Epoch 142/300\n",
            "15/15 - 2s - loss: 0.1676 - accuracy: 0.9467 - val_loss: 1.2449 - val_accuracy: 0.4000\n",
            "Epoch 143/300\n",
            "15/15 - 2s - loss: 0.1651 - accuracy: 0.9467 - val_loss: 3.4070 - val_accuracy: 0.2000\n",
            "Epoch 144/300\n",
            "15/15 - 2s - loss: 0.1868 - accuracy: 0.9200 - val_loss: 1.3936 - val_accuracy: 0.6000\n",
            "Epoch 145/300\n",
            "15/15 - 2s - loss: 0.2295 - accuracy: 0.9200 - val_loss: 2.2387 - val_accuracy: 0.4000\n",
            "Epoch 146/300\n",
            "15/15 - 2s - loss: 0.1625 - accuracy: 0.9467 - val_loss: 2.4497 - val_accuracy: 0.3000\n",
            "Epoch 147/300\n",
            "15/15 - 2s - loss: 0.1211 - accuracy: 0.9733 - val_loss: 3.0829 - val_accuracy: 0.2000\n",
            "Epoch 148/300\n",
            "15/15 - 2s - loss: 0.1638 - accuracy: 0.9467 - val_loss: 1.2988 - val_accuracy: 0.4000\n",
            "Epoch 149/300\n",
            "15/15 - 2s - loss: 0.1110 - accuracy: 0.9600 - val_loss: 1.6374 - val_accuracy: 0.4000\n",
            "Epoch 150/300\n",
            "15/15 - 2s - loss: 0.2465 - accuracy: 0.9067 - val_loss: 2.2836 - val_accuracy: 0.3000\n",
            "Epoch 151/300\n",
            "15/15 - 2s - loss: 0.1476 - accuracy: 0.9733 - val_loss: 1.7211 - val_accuracy: 0.4000\n",
            "Epoch 152/300\n",
            "15/15 - 2s - loss: 0.1820 - accuracy: 0.9467 - val_loss: 2.3551 - val_accuracy: 0.4000\n",
            "Epoch 153/300\n",
            "15/15 - 2s - loss: 0.1735 - accuracy: 0.9200 - val_loss: 2.6994 - val_accuracy: 0.3000\n",
            "Epoch 154/300\n",
            "15/15 - 2s - loss: 0.1209 - accuracy: 0.9733 - val_loss: 1.6465 - val_accuracy: 0.6000\n",
            "Epoch 155/300\n",
            "15/15 - 2s - loss: 0.1908 - accuracy: 0.9600 - val_loss: 2.1753 - val_accuracy: 0.5000\n",
            "Epoch 156/300\n",
            "15/15 - 2s - loss: 0.1320 - accuracy: 0.9600 - val_loss: 1.7198 - val_accuracy: 0.5000\n",
            "Epoch 157/300\n",
            "15/15 - 2s - loss: 0.1955 - accuracy: 0.9333 - val_loss: 0.6221 - val_accuracy: 0.8000\n",
            "\n",
            "Reached 80% accuracy so cancelling training!\n"
          ],
          "name": "stdout"
        }
      ]
    },
    {
      "cell_type": "code",
      "metadata": {
        "colab": {
          "base_uri": "https://localhost:8080/"
        },
        "id": "hg58PBwmsUWi",
        "outputId": "f0042085-b2df-4e4a-e780-aa486a821b34"
      },
      "source": [
        "model.save(\"skincaremobilenet.h5\")"
      ],
      "execution_count": null,
      "outputs": [
        {
          "output_type": "stream",
          "text": [
            "/usr/local/lib/python3.7/dist-packages/tensorflow/python/keras/utils/generic_utils.py:497: CustomMaskWarning: Custom mask layers require a config and must override get_config. When loading, the custom mask layer must be passed to the custom_objects argument.\n",
            "  category=CustomMaskWarning)\n"
          ],
          "name": "stderr"
        }
      ]
    },
    {
      "cell_type": "code",
      "metadata": {
        "colab": {
          "base_uri": "https://localhost:8080/"
        },
        "id": "cd4Fd5gO0P8k",
        "outputId": "301226c2-cc0f-4539-e0d6-87c2c64bd1dc"
      },
      "source": [
        "import pathlib\n",
        "export_dir = 'saved_model/1'\n",
        "tf.saved_model.save(model, export_dir)\n",
        "# Convert the model.\n",
        "converter = tf.lite.TFLiteConverter.from_saved_model(export_dir)\n",
        "tflite_model = converter.convert()\n",
        "tflite_model_file = pathlib.Path('model.tflite')\n",
        "tflite_model_file.write_bytes(tflite_model)"
      ],
      "execution_count": null,
      "outputs": [
        {
          "output_type": "stream",
          "text": [
            "WARNING:absl:Function `_wrapped_model` contains input name(s) mobilenetv2_1.00_224_input with unsupported characters which will be renamed to mobilenetv2_1_00_224_input in the SavedModel.\n",
            "/usr/local/lib/python3.7/dist-packages/tensorflow/python/keras/utils/generic_utils.py:497: CustomMaskWarning: Custom mask layers require a config and must override get_config. When loading, the custom mask layer must be passed to the custom_objects argument.\n",
            "  category=CustomMaskWarning)\n"
          ],
          "name": "stderr"
        },
        {
          "output_type": "stream",
          "text": [
            "WARNING:tensorflow:FOR KERAS USERS: The object that you are saving contains one or more Keras models or layers. If you are loading the SavedModel with `tf.keras.models.load_model`, continue reading (otherwise, you may ignore the following instructions). Please change your code to save with `tf.keras.models.save_model` or `model.save`, and confirm that the file \"keras.metadata\" exists in the export directory. In the future, Keras will only load the SavedModels that have this file. In other words, `tf.saved_model.save` will no longer write SavedModels that can be recovered as Keras models (this will apply in TF 2.5).\n",
            "\n",
            "FOR DEVS: If you are overwriting _tracking_metadata in your class, this property has been used to save metadata in the SavedModel. The metadta field will be deprecated soon, so please move the metadata to a different file.\n"
          ],
          "name": "stdout"
        },
        {
          "output_type": "stream",
          "text": [
            "WARNING:tensorflow:FOR KERAS USERS: The object that you are saving contains one or more Keras models or layers. If you are loading the SavedModel with `tf.keras.models.load_model`, continue reading (otherwise, you may ignore the following instructions). Please change your code to save with `tf.keras.models.save_model` or `model.save`, and confirm that the file \"keras.metadata\" exists in the export directory. In the future, Keras will only load the SavedModels that have this file. In other words, `tf.saved_model.save` will no longer write SavedModels that can be recovered as Keras models (this will apply in TF 2.5).\n",
            "\n",
            "FOR DEVS: If you are overwriting _tracking_metadata in your class, this property has been used to save metadata in the SavedModel. The metadta field will be deprecated soon, so please move the metadata to a different file.\n"
          ],
          "name": "stderr"
        },
        {
          "output_type": "stream",
          "text": [
            "INFO:tensorflow:Assets written to: saved_model/1/assets\n"
          ],
          "name": "stdout"
        },
        {
          "output_type": "stream",
          "text": [
            "INFO:tensorflow:Assets written to: saved_model/1/assets\n"
          ],
          "name": "stderr"
        },
        {
          "output_type": "execute_result",
          "data": {
            "text/plain": [
              "8895992"
            ]
          },
          "metadata": {
            "tags": []
          },
          "execution_count": 23
        }
      ]
    },
    {
      "cell_type": "code",
      "metadata": {
        "colab": {
          "base_uri": "https://localhost:8080/",
          "height": 298
        },
        "id": "g_m-09TjYMEy",
        "outputId": "c4235ae5-5022-4b61-c842-0c7dc19f4168"
      },
      "source": [
        "import matplotlib.pyplot as plt\n",
        "acc = history.history['accuracy']\n",
        "val_acc = history.history['val_accuracy']\n",
        "loss = history.history['loss']\n",
        "val_loss = history.history['val_loss']\n",
        "\n",
        "epochs = range(len(acc))\n",
        "\n",
        "plt.plot(epochs, acc, 'r', label='Training accuracy')\n",
        "plt.plot(epochs, val_acc, 'b', label='Validation accuracy')\n",
        "plt.title('Training and validation accuracy')\n",
        "plt.legend(loc=0)\n",
        "plt.figure()\n",
        "\n",
        "\n",
        "plt.show()"
      ],
      "execution_count": null,
      "outputs": [
        {
          "output_type": "display_data",
          "data": {
            "image/png": "[encoded data removed]",
            "text/plain": [
              "<Figure size 432x288 with 1 Axes>"
            ]
          },
          "metadata": {
            "tags": [],
            "needs_background": "light"
          }
        },
        {
          "output_type": "display_data",
          "data": {
            "text/plain": [
              "<Figure size 432x288 with 0 Axes>"
            ]
          },
          "metadata": {
            "tags": []
          }
        }
      ]
    },
    {
      "cell_type": "code",
      "metadata": {
        "colab": {
          "base_uri": "https://localhost:8080/",
          "height": 298
        },
        "id": "hM2GbRkEYWOT",
        "outputId": "f5a6b981-9574-4f29-bbb1-3d1e56edb073"
      },
      "source": [
        "plt.plot(epochs, loss, 'r', label='Training loss')\n",
        "plt.plot(epochs, val_loss, 'b', label='Validasi loss')\n",
        "plt.title('Training and validation loss')\n",
        "plt.legend(loc=0)\n",
        "plt.figure()\n",
        "\n",
        "\n",
        "plt.show()"
      ],
      "execution_count": null,
      "outputs": [
        {
          "output_type": "display_data",
          "data": {
            "image/png": "[encoded data removed]",
            "text/plain": [
              "<Figure size 432x288 with 1 Axes>"
            ]
          },
          "metadata": {
            "tags": [],
            "needs_background": "light"
          }
        },
        {
          "output_type": "display_data",
          "data": {
            "text/plain": [
              "<Figure size 432x288 with 0 Axes>"
            ]
          },
          "metadata": {
            "tags": []
          }
        }
      ]
    },
    {
      "cell_type": "code",
      "metadata": {
        "colab": {
          "resources": {
            "http://localhost:8080/nbextensions/google.colab/files.js": {
              "data": "Ly8gQ29weXJpZ2h0IDIwMTcgR29vZ2xlIExMQwovLwovLyBMaWNlbnNlZCB1bmRlciB0aGUgQXBhY2hlIExpY2Vuc2UsIFZlcnNpb24gMi4wICh0aGUgIkxpY2Vuc2UiKTsKLy8geW91IG1heSBub3QgdXNlIHRoaXMgZmlsZSBleGNlcHQgaW4gY29tcGxpYW5jZSB3aXRoIHRoZSBMaWNlbnNlLgovLyBZb3UgbWF5IG9idGFpbiBhIGNvcHkgb2YgdGhlIExpY2Vuc2UgYXQKLy8KLy8gICAgICBodHRwOi8vd3d3LmFwYWNoZS5vcmcvbGljZW5zZXMvTElDRU5TRS0yLjAKLy8KLy8gVW5sZXNzIHJlcXVpcmVkIGJ5IGFwcGxpY2FibGUgbGF3IG9yIGFncmVlZCB0byBpbiB3cml0aW5nLCBzb2Z0d2FyZQovLyBkaXN0cmlidXRlZCB1bmRlciB0aGUgTGljZW5zZSBpcyBkaXN0cmlidXRlZCBvbiBhbiAiQVMgSVMiIEJBU0lTLAovLyBXSVRIT1VUIFdBUlJBTlRJRVMgT1IgQ09ORElUSU9OUyBPRiBBTlkgS0lORCwgZWl0aGVyIGV4cHJlc3Mgb3IgaW1wbGllZC4KLy8gU2VlIHRoZSBMaWNlbnNlIGZvciB0aGUgc3BlY2lmaWMgbGFuZ3VhZ2UgZ292ZXJuaW5nIHBlcm1pc3Npb25zIGFuZAovLyBsaW1pdGF0aW9ucyB1bmRlciB0aGUgTGljZW5zZS4KCi8qKgogKiBAZmlsZW92ZXJ2aWV3IEhlbHBlcnMgZm9yIGdvb2dsZS5jb2xhYiBQeXRob24gbW9kdWxlLgogKi8KKGZ1bmN0aW9uKHNjb3BlKSB7CmZ1bmN0aW9uIHNwYW4odGV4dCwgc3R5bGVBdHRyaWJ1dGVzID0ge30pIHsKICBjb25zdCBlbGVtZW50ID0gZG9jdW1lbnQuY3JlYXRlRWxlbWVudCgnc3BhbicpOwogIGVsZW1lbnQudGV4dENvbnRlbnQgPSB0ZXh0OwogIGZvciAoY29uc3Qga2V5IG9mIE9iamVjdC5rZXlzKHN0eWxlQXR0cmlidXRlcykpIHsKICAgIGVsZW1lbnQuc3R5bGVba2V5XSA9IHN0eWxlQXR0cmlidXRlc1trZXldOwogIH0KICByZXR1cm4gZWxlbWVudDsKfQoKLy8gTWF4IG51bWJlciBvZiBieXRlcyB3aGljaCB3aWxsIGJlIHVwbG9hZGVkIGF0IGEgdGltZS4KY29uc3QgTUFYX1BBWUxPQURfU0laRSA9IDEwMCAqIDEwMjQ7CgpmdW5jdGlvbiBfdXBsb2FkRmlsZXMoaW5wdXRJZCwgb3V0cHV0SWQpIHsKICBjb25zdCBzdGVwcyA9IHVwbG9hZEZpbGVzU3RlcChpbnB1dElkLCBvdXRwdXRJZCk7CiAgY29uc3Qgb3V0cHV0RWxlbWVudCA9IGRvY3VtZW50LmdldEVsZW1lbnRCeUlkKG91dHB1dElkKTsKICAvLyBDYWNoZSBzdGVwcyBvbiB0aGUgb3V0cHV0RWxlbWVudCB0byBtYWtlIGl0IGF2YWlsYWJsZSBmb3IgdGhlIG5leHQgY2FsbAogIC8vIHRvIHVwbG9hZEZpbGVzQ29udGludWUgZnJvbSBQeXRob24uCiAgb3V0cHV0RWxlbWVudC5zdGVwcyA9IHN0ZXBzOwoKICByZXR1cm4gX3VwbG9hZEZpbGVzQ29udGludWUob3V0cHV0SWQpOwp9CgovLyBUaGlzIGlzIHJvdWdobHkgYW4gYXN5bmMgZ2VuZXJhdG9yIChub3Qgc3VwcG9ydGVkIGluIHRoZSBicm93c2VyIHlldCksCi8vIHdoZXJlIHRoZXJlIGFyZSBtdWx0aXBsZSBhc3luY2hyb25vdXMgc3RlcHMgYW5kIHRoZSBQeXRob24gc2lkZSBpcyBnb2luZwovLyB0byBwb2xsIGZvciBjb21wbGV0aW9uIG9mIGVhY2ggc3RlcC4KLy8gVGhpcyB1c2VzIGEgUHJvbWlzZSB0byBibG9jayB0aGUgcHl0aG9uIHNpZGUgb24gY29tcGxldGlvbiBvZiBlYWNoIHN0ZXAsCi8vIHRoZW4gcGFzc2VzIHRoZSByZXN1bHQgb2YgdGhlIHByZXZpb3VzIHN0ZXAgYXMgdGhlIGlucHV0IHRvIHRoZSBuZXh0IHN0ZXAuCmZ1bmN0aW9uIF91cGxvYWRGaWxlc0NvbnRpbnVlKG91dHB1dElkKSB7CiAgY29uc3Qgb3V0cHV0RWxlbWVudCA9IGRvY3VtZW50LmdldEVsZW1lbnRCeUlkKG91dHB1dElkKTsKICBjb25zdCBzdGVwcyA9IG91dHB1dEVsZW1lbnQuc3RlcHM7CgogIGNvbnN0IG5leHQgPSBzdGVwcy5uZXh0KG91dHB1dEVsZW1lbnQubGFzdFByb21pc2VWYWx1ZSk7CiAgcmV0dXJuIFByb21pc2UucmVzb2x2ZShuZXh0LnZhbHVlLnByb21pc2UpLnRoZW4oKHZhbHVlKSA9PiB7CiAgICAvLyBDYWNoZSB0aGUgbGFzdCBwcm9taXNlIHZhbHVlIHRvIG1ha2UgaXQgYXZhaWxhYmxlIHRvIHRoZSBuZXh0CiAgICAvLyBzdGVwIG9mIHRoZSBnZW5lcmF0b3IuCiAgICBvdXRwdXRFbGVtZW50Lmxhc3RQcm9taXNlVmFsdWUgPSB2YWx1ZTsKICAgIHJldHVybiBuZXh0LnZhbHVlLnJlc3BvbnNlOwogIH0pOwp9CgovKioKICogR2VuZXJhdG9yIGZ1bmN0aW9uIHdoaWNoIGlzIGNhbGxlZCBiZXR3ZWVuIGVhY2ggYXN5bmMgc3RlcCBvZiB0aGUgdXBsb2FkCiAqIHByb2Nlc3MuCiAqIEBwYXJhbSB7c3RyaW5nfSBpbnB1dElkIEVsZW1lbnQgSUQgb2YgdGhlIGlucHV0IGZpbGUgcGlja2VyIGVsZW1lbnQuCiAqIEBwYXJhbSB7c3RyaW5nfSBvdXRwdXRJZCBFbGVtZW50IElEIG9mIHRoZSBvdXRwdXQgZGlzcGxheS4KICogQHJldHVybiB7IUl0ZXJhYmxlPCFPYmplY3Q+fSBJdGVyYWJsZSBvZiBuZXh0IHN0ZXBzLgogKi8KZnVuY3Rpb24qIHVwbG9hZEZpbGVzU3RlcChpbnB1dElkLCBvdXRwdXRJZCkgewogIGNvbnN0IGlucHV0RWxlbWVudCA9IGRvY3VtZW50LmdldEVsZW1lbnRCeUlkKGlucHV0SWQpOwogIGlucHV0RWxlbWVudC5kaXNhYmxlZCA9IGZhbHNlOwoKICBjb25zdCBvdXRwdXRFbGVtZW50ID0gZG9jdW1lbnQuZ2V0RWxlbWVudEJ5SWQob3V0cHV0SWQpOwogIG91dHB1dEVsZW1lbnQuaW5uZXJIVE1MID0gJyc7CgogIGNvbnN0IHBpY2tlZFByb21pc2UgPSBuZXcgUHJvbWlzZSgocmVzb2x2ZSkgPT4gewogICAgaW5wdXRFbGVtZW50LmFkZEV2ZW50TGlzdGVuZXIoJ2NoYW5nZScsIChlKSA9PiB7CiAgICAgIHJlc29sdmUoZS50YXJnZXQuZmlsZXMpOwogICAgfSk7CiAgfSk7CgogIGNvbnN0IGNhbmNlbCA9IGRvY3VtZW50LmNyZWF0ZUVsZW1lbnQoJ2J1dHRvbicpOwogIGlucHV0RWxlbWVudC5wYXJlbnRFbGVtZW50LmFwcGVuZENoaWxkKGNhbmNlbCk7CiAgY2FuY2VsLnRleHRDb250ZW50ID0gJ0NhbmNlbCB1cGxvYWQnOwogIGNvbnN0IGNhbmNlbFByb21pc2UgPSBuZXcgUHJvbWlzZSgocmVzb2x2ZSkgPT4gewogICAgY2FuY2VsLm9uY2xpY2sgPSAoKSA9PiB7CiAgICAgIHJlc29sdmUobnVsbCk7CiAgICB9OwogIH0pOwoKICAvLyBXYWl0IGZvciB0aGUgdXNlciB0byBwaWNrIHRoZSBmaWxlcy4KICBjb25zdCBmaWxlcyA9IHlpZWxkIHsKICAgIHByb21pc2U6IFByb21pc2UucmFjZShbcGlja2VkUHJvbWlzZSwgY2FuY2VsUHJvbWlzZV0pLAogICAgcmVzcG9uc2U6IHsKICAgICAgYWN0aW9uOiAnc3RhcnRpbmcnLAogICAgfQogIH07CgogIGNhbmNlbC5yZW1vdmUoKTsKCiAgLy8gRGlzYWJsZSB0aGUgaW5wdXQgZWxlbWVudCBzaW5jZSBmdXJ0aGVyIHBpY2tzIGFyZSBub3QgYWxsb3dlZC4KICBpbnB1dEVsZW1lbnQuZGlzYWJsZWQgPSB0cnVlOwoKICBpZiAoIWZpbGVzKSB7CiAgICByZXR1cm4gewogICAgICByZXNwb25zZTogewogICAgICAgIGFjdGlvbjogJ2NvbXBsZXRlJywKICAgICAgfQogICAgfTsKICB9CgogIGZvciAoY29uc3QgZmlsZSBvZiBmaWxlcykgewogICAgY29uc3QgbGkgPSBkb2N1bWVudC5jcmVhdGVFbGVtZW50KCdsaScpOwogICAgbGkuYXBwZW5kKHNwYW4oZmlsZS5uYW1lLCB7Zm9udFdlaWdodDogJ2JvbGQnfSkpOwogICAgbGkuYXBwZW5kKHNwYW4oCiAgICAgICAgYCgke2ZpbGUudHlwZSB8fCAnbi9hJ30pIC0gJHtmaWxlLnNpemV9IGJ5dGVzLCBgICsKICAgICAgICBgbGFzdCBtb2RpZmllZDogJHsKICAgICAgICAgICAgZmlsZS5sYXN0TW9kaWZpZWREYXRlID8gZmlsZS5sYXN0TW9kaWZpZWREYXRlLnRvTG9jYWxlRGF0ZVN0cmluZygpIDoKICAgICAgICAgICAgICAgICAgICAgICAgICAgICAgICAgICAgJ24vYSd9IC0gYCkpOwogICAgY29uc3QgcGVyY2VudCA9IHNwYW4oJzAlIGRvbmUnKTsKICAgIGxpLmFwcGVuZENoaWxkKHBlcmNlbnQpOwoKICAgIG91dHB1dEVsZW1lbnQuYXBwZW5kQ2hpbGQobGkpOwoKICAgIGNvbnN0IGZpbGVEYXRhUHJvbWlzZSA9IG5ldyBQcm9taXNlKChyZXNvbHZlKSA9PiB7CiAgICAgIGNvbnN0IHJlYWRlciA9IG5ldyBGaWxlUmVhZGVyKCk7CiAgICAgIHJlYWRlci5vbmxvYWQgPSAoZSkgPT4gewogICAgICAgIHJlc29sdmUoZS50YXJnZXQucmVzdWx0KTsKICAgICAgfTsKICAgICAgcmVhZGVyLnJlYWRBc0FycmF5QnVmZmVyKGZpbGUpOwogICAgfSk7CiAgICAvLyBXYWl0IGZvciB0aGUgZGF0YSB0byBiZSByZWFkeS4KICAgIGxldCBmaWxlRGF0YSA9IHlpZWxkIHsKICAgICAgcHJvbWlzZTogZmlsZURhdGFQcm9taXNlLAogICAgICByZXNwb25zZTogewogICAgICAgIGFjdGlvbjogJ2NvbnRpbnVlJywKICAgICAgfQogICAgfTsKCiAgICAvLyBVc2UgYSBjaHVua2VkIHNlbmRpbmcgdG8gYXZvaWQgbWVzc2FnZSBzaXplIGxpbWl0cy4gU2VlIGIvNjIxMTU2NjAuCiAgICBsZXQgcG9zaXRpb24gPSAwOwogICAgd2hpbGUgKHBvc2l0aW9uIDwgZmlsZURhdGEuYnl0ZUxlbmd0aCkgewogICAgICBjb25zdCBsZW5ndGggPSBNYXRoLm1pbihmaWxlRGF0YS5ieXRlTGVuZ3RoIC0gcG9zaXRpb24sIE1BWF9QQVlMT0FEX1NJWkUpOwogICAgICBjb25zdCBjaHVuayA9IG5ldyBVaW50OEFycmF5KGZpbGVEYXRhLCBwb3NpdGlvbiwgbGVuZ3RoKTsKICAgICAgcG9zaXRpb24gKz0gbGVuZ3RoOwoKICAgICAgY29uc3QgYmFzZTY0ID0gYnRvYShTdHJpbmcuZnJvbUNoYXJDb2RlLmFwcGx5KG51bGwsIGNodW5rKSk7CiAgICAgIHlpZWxkIHsKICAgICAgICByZXNwb25zZTogewogICAgICAgICAgYWN0aW9uOiAnYXBwZW5kJywKICAgICAgICAgIGZpbGU6IGZpbGUubmFtZSwKICAgICAgICAgIGRhdGE6IGJhc2U2NCwKICAgICAgICB9LAogICAgICB9OwogICAgICBwZXJjZW50LnRleHRDb250ZW50ID0KICAgICAgICAgIGAke01hdGgucm91bmQoKHBvc2l0aW9uIC8gZmlsZURhdGEuYnl0ZUxlbmd0aCkgKiAxMDApfSUgZG9uZWA7CiAgICB9CiAgfQoKICAvLyBBbGwgZG9uZS4KICB5aWVsZCB7CiAgICByZXNwb25zZTogewogICAgICBhY3Rpb246ICdjb21wbGV0ZScsCiAgICB9CiAgfTsKfQoKc2NvcGUuZ29vZ2xlID0gc2NvcGUuZ29vZ2xlIHx8IHt9OwpzY29wZS5nb29nbGUuY29sYWIgPSBzY29wZS5nb29nbGUuY29sYWIgfHwge307CnNjb3BlLmdvb2dsZS5jb2xhYi5fZmlsZXMgPSB7CiAgX3VwbG9hZEZpbGVzLAogIF91cGxvYWRGaWxlc0NvbnRpbnVlLAp9Owp9KShzZWxmKTsK",
              "ok": true,
              "headers": [
                [
                  "content-type",
                  "application/javascript"
                ]
              ],
              "status": 200,
              "status_text": ""
            }
          },
          "base_uri": "https://localhost:8080/",
          "height": 463
        },
        "id": "arnneMqVYkAS",
        "outputId": "a8fdf2e0-6124-46f4-9887-c251269606bf"
      },
      "source": [
        "import numpy as np\n",
        "from google.colab import files\n",
        "from keras.preprocessing import image\n",
        "\n",
        "uploaded = files.upload()\n",
        "\n",
        "for fn in uploaded.keys():\n",
        " \n",
        "  # predicting images\n",
        "  path = fn\n",
        "  img = image.load_img(path, target_size=(150, 150))\n",
        "  x = image.img_to_array(img)\n",
        "  x = np.expand_dims(x, axis=0)\n",
        "\n",
        "  images = np.vstack([x])\n",
        "  classes = model.predict(images, batch_size=10)\n",
        "  print(classes.argmax())\n",
        "  print(fn)\n",
        "  print(classes)"
      ],
      "execution_count": null,
      "outputs": [
        {
          "output_type": "display_data",
          "data": {
            "text/html": [
              "\n",
              "     <input type=\"file\" id=\"files-c6697161-2295-4d4a-958e-9a023062ca50\" name=\"files[]\" multiple disabled\n",
              "        style=\"border:none\" />\n",
              "     <output id=\"result-c6697161-2295-4d4a-958e-9a023062ca50\">\n",
              "      Upload widget is only available when the cell has been executed in the\n",
              "      current browser session. Please rerun this cell to enable.\n",
              "      </output>\n",
              "      <script src=\"/nbextensions/google.colab/files.js\"></script> "
            ],
            "text/plain": [
              "<IPython.core.display.HTML object>"
            ]
          },
          "metadata": {
            "tags": []
          }
        },
        {
          "output_type": "stream",
          "text": [
            "Saving sensitif.2.jpg to sensitif.2.jpg\n",
            "Saving sensitif.3.jpg to sensitif.3.jpg\n",
            "Saving sensitif.4.PNG to sensitif.4.PNG\n",
            "Saving sensitif.12.PNG to sensitif.12.PNG\n",
            "Saving sensitif.17.png to sensitif.17.png\n",
            "4\n",
            "sensitif.2.jpg\n",
            "[[0.01363377 0.00453884 0.01142485 0.00925572 0.96114683]]\n",
            "2\n",
            "sensitif.3.jpg\n",
            "[[0.18962984 0.09230828 0.46013996 0.10731526 0.15060672]]\n",
            "3\n",
            "sensitif.4.PNG\n",
            "[[0.114037   0.02220902 0.00905287 0.5151559  0.33954525]]\n",
            "4\n",
            "sensitif.12.PNG\n",
            "[[0.08682684 0.04669879 0.03157923 0.18094301 0.6539521 ]]\n",
            "0\n",
            "sensitif.17.png\n",
            "[[0.54624057 0.08121831 0.01103842 0.08312148 0.2783813 ]]\n"
          ],
          "name": "stdout"
        }
      ]
    },
    {
      "cell_type": "code",
      "metadata": {
        "id": "8ArYmxslrMKF"
      },
      "source": [
        ""
      ],
      "execution_count": null,
      "outputs": []
    }
  ]
}